{
 "cells": [
  {
   "cell_type": "markdown",
   "id": "04d47372",
   "metadata": {},
   "source": [
    "# 트리 DP"
   ]
  },
  {
   "cell_type": "markdown",
   "id": "4b177c84",
   "metadata": {},
   "source": [
    "- 사이클이 없는 그래프 (서로 다른 두 노드를 잇는 길이 하나밖에 없는 그래프)\n",
    "- DFS + DP\n",
    "- 이전에 한번이라도 방문된 노드는 다시 가지 않도록 함 \n",
    "- 대부분 DFS를 통해서 리프 노드까지 향한 다음, 올라오면서 루트의 값을 처리 \n",
    "- 일반적인 \"DFS와 다르게 한 번 방문한 곳은 visit을 복구해 주지 않고 \" 다시는 가지 못하게 한다면 \"트리를 탐색하는 것과 같은 효과\""
   ]
  },
  {
   "cell_type": "markdown",
   "id": "a9b758bc",
   "metadata": {},
   "source": [
    "- dp[i][j] 로 구성, i는 노드번호 j는 0이면 얼리어답터가 아닌 경우, 1이면 얼리어답터인 경우."
   ]
  },
  {
   "cell_type": "markdown",
   "id": "c80ed51b",
   "metadata": {},
   "source": [
    "# 사회망 서비스"
   ]
  },
  {
   "cell_type": "code",
   "execution_count": null,
   "id": "e5dc3399",
   "metadata": {},
   "outputs": [],
   "source": [
    "기본 아이디어\n",
    "- 내가 EA가 아니라면 내 CHILD는 모두 EA다.\n",
    "- 내가 EA가 아니라면 내 CHILD는 EA든 아니든 상관 없으니 EA가 적은 쪽을 선택해야 함."
   ]
  },
  {
   "cell_type": "code",
   "execution_count": null,
   "id": "01295943",
   "metadata": {},
   "outputs": [],
   "source": [
    "import sys\n",
    "\n",
    "input = sys.stdin.readline\n",
    "\n",
    "sys.setrecursionlimit(100000000)\n",
    "\n",
    "e = int(input())\n",
    "tree = [[] for _ in range(e+1)]\n",
    "\n",
    "#트리 생성\n",
    "for _ in range(e-1):\n",
    "    a, b = map(int, input().split())\n",
    "    tree[a].append(b)\n",
    "    tree[b].append(a)\n",
    "\n",
    "#Node가 1번부터 N개 주어짐\n",
    "visited = [False]*(e+1)\n",
    "\n",
    "\n",
    "#ea = Early Adoptor\n",
    "#dp_mat[v] = [0 ea가 아닐때, 1 ea일때]\n",
    "\n",
    "dp_mat = [[0, 1] for _ in range(e+1)] # dp 로 구성하기 \n",
    "\n",
    "\n",
    "def dp(cur):\n",
    "    #어디를 시작점으로 잡아도 상관 없지만, 이미 방문한 곳을 다시 방문하는 건 안됨\n",
    "    #현재 node는 cur 을 뜻 함.\n",
    "    \n",
    "    for nei in tree[cur]:\n",
    "        #아직 방문X -> nei는 cur의 child! 재귀 수행! (노드 번호를 뜻함)\n",
    "        if not visited[nei]:\n",
    "            dp(nei) #Leaf node까지 내려감\n",
    "\n",
    "            #Node cur이 ea가 아니면, child가 무조건 ea여야 함\n",
    "            dp_mat[cur][0] += dp_mat[nei][1]\n",
    "\n",
    "            #Node cur이 ea면? Child가 ea든 아니든 상관 없으니 ea가 적은 케이스 가져오기\n",
    "            dp_mat[cur][1] += min(dp_mat[nei][0], dp_mat[nei][1])\n",
    "\n",
    "visited[cur] = True\n",
    "\n",
    "#어디를 시작점으로 잡아도 상관 없음\n",
    "dp(e-1)\n",
    "#시작점이 ea인 경우, 아닌 경우 2가지를 모두 돌려보고, 작은 case를 출력하기 \n",
    "print(min(dp_mat[e-1][0], dp_mat[e-1][1]))"
   ]
  },
  {
   "cell_type": "code",
   "execution_count": null,
   "id": "f0a4b768",
   "metadata": {},
   "outputs": [],
   "source": []
  }
 ],
 "metadata": {
  "kernelspec": {
   "display_name": "Python 3",
   "language": "python",
   "name": "python3"
  },
  "language_info": {
   "codemirror_mode": {
    "name": "ipython",
    "version": 3
   },
   "file_extension": ".py",
   "mimetype": "text/x-python",
   "name": "python",
   "nbconvert_exporter": "python",
   "pygments_lexer": "ipython3",
   "version": "3.8.11"
  }
 },
 "nbformat": 4,
 "nbformat_minor": 5
}
